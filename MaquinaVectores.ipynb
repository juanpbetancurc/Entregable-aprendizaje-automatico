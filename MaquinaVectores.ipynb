{
 "cells": [
  {
   "cell_type": "code",
   "execution_count": 38,
   "id": "9fde3a4b",
   "metadata": {},
   "outputs": [],
   "source": [
    "import pandas as pd\n",
    "import numpy as np\n",
    "# Modelos y métricas\n",
    "from sklearn.ensemble import RandomForestRegressor, GradientBoostingRegressor\n",
    "from sklearn.linear_model import LinearRegression, Lasso\n",
    "from sklearn.svm import SVR\n",
    "from sklearn.metrics import mean_squared_error, r2_score, mean_absolute_error\n",
    "from sklearn.decomposition import PCA\n",
    "# Preprocsamiento de datos\n",
    "from sklearn.model_selection import train_test_split\n",
    "from sklearn.preprocessing import OneHotEncoder\n",
    "from sklearn.preprocessing import StandardScaler\n",
    "from sklearn.compose import ColumnTransformer\n",
    "# Figuras\n",
    "import plotly.express as px\n",
    "from plotly.subplots import make_subplots\n",
    "import plotly.graph_objects as go\n",
    "import plotly.io as pio\n",
    "\n",
    "# Creación de funciones\n",
    "from typing import Optional, Tuple, Union"
   ]
  },
  {
   "cell_type": "code",
   "execution_count": 39,
   "id": "6bb8de99",
   "metadata": {},
   "outputs": [],
   "source": [
    "def procesar_categoricas(df, cat_features, drop_first=True):\n",
    "    \"\"\"\n",
    "    Procesa variables categóricas con OneHotEncoder de sklearn.\n",
    "\n",
    "    Parámetros\n",
    "    ----------\n",
    "    df : pd.DataFrame\n",
    "        DataFrame original con variables numéricas y categóricas.\n",
    "    cat_features : list\n",
    "        Lista con los nombres de las columnas categóricas a codificar.\n",
    "    drop_first : bool, opcional\n",
    "        Si True, elimina una categoría base para evitar multicolinealidad.\n",
    "        Por defecto True.\n",
    "\n",
    "    Retorna\n",
    "    -------\n",
    "    X_encoded_df : pd.DataFrame\n",
    "        DataFrame transformado con variables categóricas codificadas.\n",
    "    preprocessor : ColumnTransformer\n",
    "        Objeto ColumnTransformer que contiene el OneHotEncoder (útil para nuevos datos).\n",
    "    \"\"\"\n",
    "\n",
    "    # Configurar OneHotEncoder\n",
    "    encoder = OneHotEncoder(\n",
    "        drop='first' if drop_first else None,\n",
    "        sparse_output=False\n",
    "    )\n",
    "\n",
    "    # Crear ColumnTransformer\n",
    "    preprocessor = ColumnTransformer(\n",
    "        transformers=[\n",
    "            ('cat', encoder, cat_features)\n",
    "        ],\n",
    "        remainder='passthrough'  # mantiene las columnas numéricas sin tocar\n",
    "    )\n",
    "\n",
    "    # Aplicar la transformación\n",
    "    X_encoded = preprocessor.fit_transform(df[cat_features])\n",
    "\n",
    "    # Obtener los nombres de las nuevas columnas\n",
    "    encoded_cols = preprocessor.named_transformers_['cat'].get_feature_names_out(cat_features)\n",
    "    all_cols = list(encoded_cols)\n",
    "\n",
    "    # Crear DataFrame final\n",
    "    X_encoded_df = pd.DataFrame(X_encoded, columns=all_cols, index=df.index)\n",
    "\n",
    "    return X_encoded_df, preprocessor"
   ]
  },
  {
   "cell_type": "code",
   "execution_count": 40,
   "id": "3baf5ba9",
   "metadata": {},
   "outputs": [],
   "source": [
    "def procesar_numericas(df, num_features):\n",
    "    \"\"\"\n",
    "    Escala variables numéricas usando StandardScaler de sklearn.\n",
    "\n",
    "    Parámetros\n",
    "    ----------\n",
    "    df : pd.DataFrame\n",
    "        DataFrame original con variables numéricas.\n",
    "    num_features : list\n",
    "        Lista con los nombres de las columnas numéricas a escalar.\n",
    "\n",
    "    Retorna\n",
    "    -------\n",
    "    X_scaled_df : pd.DataFrame\n",
    "        DataFrame transformado con las variables numéricas escaladas.\n",
    "    preprocessor : ColumnTransformer\n",
    "        Objeto ColumnTransformer con el escalador (útil para nuevos datos).\n",
    "    \"\"\"\n",
    "\n",
    "    # Configurar el escalador\n",
    "    scaler = StandardScaler()\n",
    "\n",
    "    # Crear el transformador\n",
    "    preprocessor = ColumnTransformer(\n",
    "        transformers=[\n",
    "            ('num', scaler, num_features)\n",
    "        ],\n",
    "        remainder='passthrough'  # deja otras columnas sin modificar\n",
    "    )\n",
    "\n",
    "    # Aplicar transformación\n",
    "    X_scaled = preprocessor.fit_transform(df[num_features])\n",
    "\n",
    "    # Obtener nombres de columnas finales (mantiene el orden)\n",
    "    scaled_cols = [f\"{col}_scaled\" for col in num_features]\n",
    "\n",
    "    # Crear DataFrame transformado\n",
    "    X_scaled_df = pd.DataFrame(X_scaled, columns=scaled_cols, index=df.index)\n",
    "\n",
    "    return X_scaled_df, preprocessor"
   ]
  },
  {
   "cell_type": "code",
   "execution_count": 41,
   "id": "8ed3c75f",
   "metadata": {},
   "outputs": [],
   "source": [
    "def pareto_categoria(data, column, top_n=None, cumulative_threshold=0.8, figsize=(10,6), show=True, return_table=False):\n",
    "    \"\"\"\n",
    "    Calcula y (opcionalmente) grafica un diagrama de Pareto para una variable categórica.\n",
    "\n",
    "    Parámetros:\n",
    "        data (pd.DataFrame): DataFrame que contiene la columna a analizar.\n",
    "        column (str): Nombre de la columna categórica.\n",
    "        top_n (int, opcional): Si se especifica, muestra/usa solo las `top_n` categorías y agrupa el resto como 'Otros'.\n",
    "        cumulative_threshold (float, opcional): umbral entre 0 y 1 para identificar cuántas\n",
    "            categorías explican ese porcentaje acumulado. Solo usado informativamente si top_n es None.\n",
    "        figsize (tuple): tamaño de la figura (ancho, alto).\n",
    "        show (bool): si True muestra la gráfica; si False solo devuelve la tabla.\n",
    "        return_table (bool): si True devuelve el DataFrame con conteos, porcentajes y acumulados.\n",
    "\n",
    "    Retorna:\n",
    "        Si return_table=True devuelve un pd.DataFrame con columnas ['category','count','percent','cumulative_percent'].\n",
    "        Si return_table=False devuelve None (pero muestra la gráfica si show=True).\n",
    "\n",
    "    Ejemplo:\n",
    "        pareto_categoria(df, 'marca', top_n=10)\n",
    "    \"\"\"\n",
    "    if column not in data.columns:\n",
    "        raise ValueError(f\"La columna '{column}' no existe en el DataFrame\")\n",
    "\n",
    "    # Contar incluyendo NaNs como categoría explícita\n",
    "    ser = data[column].fillna('NaN').astype(str)\n",
    "    counts = ser.value_counts(dropna=False)\n",
    "    total = counts.sum()\n",
    "\n",
    "    pareto_df = pd.DataFrame({\n",
    "        'category': counts.index.astype(str),\n",
    "        'count': counts.values\n",
    "    })\n",
    "    pareto_df['percent'] = pareto_df['count'] / total\n",
    "    pareto_df['cumulative_percent'] = pareto_df['percent'].cumsum()\n",
    "\n",
    "    # Información sobre el número de categorías necesarias para alcanzar el umbral\n",
    "    if top_n is None and cumulative_threshold is not None:\n",
    "        reached = pareto_df[pareto_df['cumulative_percent'] <= cumulative_threshold]\n",
    "        # Si ningún valor está estrictamente <= threshold (por ej. primer > threshold), incluir el primero\n",
    "        if reached.empty:\n",
    "            needed = 1\n",
    "        else:\n",
    "            needed = len(reached)\n",
    "    else:\n",
    "        needed = top_n\n",
    "\n",
    "    # Si se pide agrupar por top_n, crear una tabla para graficar\n",
    "    if top_n is not None:\n",
    "        top = pareto_df.head(top_n).copy()\n",
    "        others_count = pareto_df['count'].iloc[top_n:].sum()\n",
    "        if others_count > 0:\n",
    "            others_percent = others_count / total\n",
    "            others_cum = top['cumulative_percent'].iloc[-1] + others_percent\n",
    "            top = top.append({'category': 'Otros', 'count': others_count, 'percent': others_percent, 'cumulative_percent': others_cum}, ignore_index=True)\n",
    "        plot_df = top\n",
    "    else:\n",
    "        plot_df = pareto_df\n",
    "\n",
    "    if show:\n",
    "        fig, ax = plt.subplots(figsize=figsize)\n",
    "        sns.barplot(x='category', y='count', data=plot_df, ax=ax, palette='Blues_d')\n",
    "        ax.set_ylabel('Count')\n",
    "        ax.set_xlabel(column)\n",
    "        ax.set_xticklabels(ax.get_xticklabels(), rotation=45, ha='right')\n",
    "\n",
    "        # Eje secundario para porcentaje acumulado\n",
    "        ax2 = ax.twinx()\n",
    "        ax2.plot(range(len(plot_df)), plot_df['cumulative_percent'], color='red', marker='o')\n",
    "        ax2.set_ylim(0, 1.05)\n",
    "        ax2.set_ylabel('Cumulative percent')\n",
    "        ax2.yaxis.set_major_formatter(plt.FuncFormatter(lambda y, _: '{:.0%}'.format(y)))\n",
    "\n",
    "        # Anotar barras con porcentaje\n",
    "        for i, row in plot_df.reset_index().iterrows():\n",
    "            ax.text(i, row['count'], f\"{row['percent']:.1%}\", ha='center', va='bottom', fontsize=9)\n",
    "\n",
    "        plt.title(f'Pareto - {column}')\n",
    "        plt.tight_layout()\n",
    "        plt.show()\n",
    "\n",
    "    if return_table:\n",
    "        return pareto_df.reset_index(drop=True)\n",
    "\n",
    "    return None"
   ]
  },
  {
   "cell_type": "code",
   "execution_count": 42,
   "id": "b8166866",
   "metadata": {},
   "outputs": [],
   "source": [
    "def aplicar_pca(\n",
    "    X: Union[pd.DataFrame, np.ndarray],\n",
    "    n_components: Optional[int] = None,\n",
    "    variance_threshold: float = 0.95,\n",
    "    random_state: Optional[int] = 42,\n",
    ") -> Union[pd.DataFrame, Tuple[pd.DataFrame, PCA]]:\n",
    "    \"\"\"\n",
    "    Aplica PCA sobre X y devuelve el DataFrame transformado (componentes principales).\n",
    "    \n",
    "    Parámetros\n",
    "    ----------\n",
    "    X : pd.DataFrame | np.ndarray\n",
    "        Datos de entrada (filas = muestras). Si es DataFrame se preservan índices.\n",
    "    n_components : int | None\n",
    "        Número de componentes a conservar. Si None, se calcula a partir de `variance_threshold`.\n",
    "    variance_threshold : float\n",
    "        Fracción de varianza explicada acumulada deseada si n_components es None (default 0.95).\n",
    "    standardize : bool\n",
    "        Si True se aplica StandardScaler antes de PCA (recomendado si X no está escalado).\n",
    "    random_state : int | None\n",
    "        Semilla para reproducibilidad.\n",
    "    plot : bool\n",
    "        Si True muestra gráfico de varianza explicada (scree + acumulada).\n",
    "    return_model : bool\n",
    "        Si True devuelve (df_pca, objeto_pca). Si False devuelve solo df_pca.\n",
    "\n",
    "    Retorna\n",
    "    -------\n",
    "    pd.DataFrame o (pd.DataFrame, PCA)\n",
    "        DataFrame con columnas ['PC1','PC2',...]. Si return_model=True también devuelve el objeto PCA ajustado.\n",
    "    \"\"\"\n",
    "    # Preparar matriz de entrada\n",
    "    if isinstance(X, pd.DataFrame):\n",
    "        idx = X.index\n",
    "        X_mat = X.values\n",
    "    else:\n",
    "        X_mat = np.asarray(X)\n",
    "        idx = None\n",
    "\n",
    "\n",
    "    # Determinar n_components si no se especifica\n",
    "    if n_components is None:\n",
    "        # Ajuste temporal para obtener varianza explicada\n",
    "        pca_tmp = PCA(random_state=random_state)\n",
    "        pca_tmp.fit(X_mat)\n",
    "        cum_var = np.cumsum(pca_tmp.explained_variance_ratio_)\n",
    "        # buscar el número mínimo de componentes que alcance el umbral\n",
    "        n_components = int(np.searchsorted(cum_var, variance_threshold) + 1)\n",
    "\n",
    "    # Ajustar PCA definitivo\n",
    "    pca = PCA(n_components=n_components, random_state=random_state)\n",
    "    X_pca = pca.fit_transform(X_mat)\n",
    "\n",
    "    # Construir DataFrame resultado\n",
    "    cols = [f\"PC{i+1}\" for i in range(X_pca.shape[1])]\n",
    "    df_pca = pd.DataFrame(X_pca, columns=cols, index=idx)\n",
    "    \n",
    "    return df_pca, pca\n",
    "    "
   ]
  },
  {
   "cell_type": "code",
   "execution_count": 43,
   "id": "e8d106c8",
   "metadata": {},
   "outputs": [
    {
     "name": "stdout",
     "output_type": "stream",
     "text": [
      "<class 'pandas.core.frame.DataFrame'>\n",
      "RangeIndex: 14093 entries, 0 to 14092\n",
      "Data columns (total 9 columns):\n",
      " #   Column            Non-Null Count  Dtype  \n",
      "---  ------            --------------  -----  \n",
      " 0   YEAR              14093 non-null  int64  \n",
      " 1   RANGE_CATEGORY    14093 non-null  object \n",
      " 2   VEHICLE CLASS     14093 non-null  object \n",
      " 3   ENGINE SIZE       14093 non-null  float64\n",
      " 4   CYLINDERS         14093 non-null  int64  \n",
      " 5   FUEL              14093 non-null  object \n",
      " 6   FUEL CONSUMPTION  14093 non-null  float64\n",
      " 7   KMXGALON          14093 non-null  float64\n",
      " 8   EMISSIONS         14093 non-null  int64  \n",
      "dtypes: float64(3), int64(3), object(3)\n",
      "memory usage: 991.0+ KB\n"
     ]
    }
   ],
   "source": [
    "df = pd.read_csv('3_Fuel_Consumption_2000-2022_Prep.csv')\n",
    "df.info()\n"
   ]
  },
  {
   "cell_type": "code",
   "execution_count": 44,
   "id": "b78b4cd2",
   "metadata": {},
   "outputs": [
    {
     "data": {
      "application/vnd.microsoft.datawrangler.viewer.v0+json": {
       "columns": [
        {
         "name": "index",
         "rawType": "int64",
         "type": "integer"
        },
        {
         "name": "RANGE_CATEGORY",
         "rawType": "object",
         "type": "string"
        },
        {
         "name": "VEHICLE CLASS",
         "rawType": "object",
         "type": "string"
        },
        {
         "name": "FUEL",
         "rawType": "object",
         "type": "string"
        }
       ],
       "ref": "981715b8-db4f-4bdb-b4df-b8fcd00ed2d1",
       "rows": [
        [
         "0",
         "MID_RANGE",
         "TRUCK_VAN",
         "O"
        ],
        [
         "1",
         "MID_RANGE",
         "TRUCK_VAN",
         "X"
        ],
        [
         "2",
         "MID_RANGE",
         "SEDAN_COMPACT",
         "X"
        ],
        [
         "3",
         "MID_RANGE",
         "MIDSIZE_FULLSIZE",
         "Z"
        ],
        [
         "4",
         "MID_RANGE",
         "TRUCK_VAN",
         "X"
        ]
       ],
       "shape": {
        "columns": 3,
        "rows": 5
       }
      },
      "text/html": [
       "<div>\n",
       "<style scoped>\n",
       "    .dataframe tbody tr th:only-of-type {\n",
       "        vertical-align: middle;\n",
       "    }\n",
       "\n",
       "    .dataframe tbody tr th {\n",
       "        vertical-align: top;\n",
       "    }\n",
       "\n",
       "    .dataframe thead th {\n",
       "        text-align: right;\n",
       "    }\n",
       "</style>\n",
       "<table border=\"1\" class=\"dataframe\">\n",
       "  <thead>\n",
       "    <tr style=\"text-align: right;\">\n",
       "      <th></th>\n",
       "      <th>RANGE_CATEGORY</th>\n",
       "      <th>VEHICLE CLASS</th>\n",
       "      <th>FUEL</th>\n",
       "    </tr>\n",
       "  </thead>\n",
       "  <tbody>\n",
       "    <tr>\n",
       "      <th>0</th>\n",
       "      <td>MID_RANGE</td>\n",
       "      <td>TRUCK_VAN</td>\n",
       "      <td>O</td>\n",
       "    </tr>\n",
       "    <tr>\n",
       "      <th>1</th>\n",
       "      <td>MID_RANGE</td>\n",
       "      <td>TRUCK_VAN</td>\n",
       "      <td>X</td>\n",
       "    </tr>\n",
       "    <tr>\n",
       "      <th>2</th>\n",
       "      <td>MID_RANGE</td>\n",
       "      <td>SEDAN_COMPACT</td>\n",
       "      <td>X</td>\n",
       "    </tr>\n",
       "    <tr>\n",
       "      <th>3</th>\n",
       "      <td>MID_RANGE</td>\n",
       "      <td>MIDSIZE_FULLSIZE</td>\n",
       "      <td>Z</td>\n",
       "    </tr>\n",
       "    <tr>\n",
       "      <th>4</th>\n",
       "      <td>MID_RANGE</td>\n",
       "      <td>TRUCK_VAN</td>\n",
       "      <td>X</td>\n",
       "    </tr>\n",
       "  </tbody>\n",
       "</table>\n",
       "</div>"
      ],
      "text/plain": [
       "  RANGE_CATEGORY     VEHICLE CLASS FUEL\n",
       "0      MID_RANGE         TRUCK_VAN    O\n",
       "1      MID_RANGE         TRUCK_VAN    X\n",
       "2      MID_RANGE     SEDAN_COMPACT    X\n",
       "3      MID_RANGE  MIDSIZE_FULLSIZE    Z\n",
       "4      MID_RANGE         TRUCK_VAN    X"
      ]
     },
     "execution_count": 44,
     "metadata": {},
     "output_type": "execute_result"
    }
   ],
   "source": [
    "catCols = df.select_dtypes(include = [\"object\", 'category']).columns.tolist()\n",
    "df[catCols].head()"
   ]
  },
  {
   "cell_type": "code",
   "execution_count": 45,
   "id": "f669122d",
   "metadata": {},
   "outputs": [
    {
     "name": "stdout",
     "output_type": "stream",
     "text": [
      "RANGE_CATEGORY 3\n",
      "VEHICLE CLASS 5\n",
      "FUEL 3\n"
     ]
    }
   ],
   "source": [
    "for col in catCols:\n",
    "    print(col, df[col].nunique())"
   ]
  },
  {
   "cell_type": "code",
   "execution_count": 47,
   "id": "8fd7aca4",
   "metadata": {},
   "outputs": [
    {
     "data": {
      "text/plain": [
       "\" px.bar(\\n    df['MODEL'].value_counts().reset_index(),\\n    x='MODEL',\\n    y='count',\\n    title='Distribución de la variable MODEL',\\n    labels={'count':'Cantidad de vehículos', 'MODEL':'Modelo'},\\n    height=600\\n).update_layout(template = 'plotly_white') \""
      ]
     },
     "execution_count": 47,
     "metadata": {},
     "output_type": "execute_result"
    }
   ],
   "source": [
    "\"\"\" px.bar(\n",
    "    df['MODEL'].value_counts().reset_index(),\n",
    "    x='MODEL',\n",
    "    y='count',\n",
    "    title='Distribución de la variable MODEL',\n",
    "    labels={'count':'Cantidad de vehículos', 'MODEL':'Modelo'},\n",
    "    height=600\n",
    ").update_layout(template = 'plotly_white') \"\"\""
   ]
  },
  {
   "cell_type": "code",
   "execution_count": 48,
   "id": "a80eeba7",
   "metadata": {},
   "outputs": [
    {
     "data": {
      "application/vnd.microsoft.datawrangler.viewer.v0+json": {
       "columns": [
        {
         "name": "index",
         "rawType": "int64",
         "type": "integer"
        },
        {
         "name": "YEAR",
         "rawType": "int64",
         "type": "integer"
        },
        {
         "name": "ENGINE SIZE",
         "rawType": "float64",
         "type": "float"
        },
        {
         "name": "CYLINDERS",
         "rawType": "int64",
         "type": "integer"
        },
        {
         "name": "FUEL CONSUMPTION",
         "rawType": "float64",
         "type": "float"
        },
        {
         "name": "KMXGALON",
         "rawType": "float64",
         "type": "float"
        },
        {
         "name": "EMISSIONS",
         "rawType": "int64",
         "type": "integer"
        }
       ],
       "ref": "3227d181-7cdf-4e10-b74b-0947d7b3f3bd",
       "rows": [
        [
         "0",
         "2007",
         "5.3",
         "8",
         "21.0",
         "24.1401",
         "298"
        ],
        [
         "1",
         "2020",
         "5.3",
         "8",
         "15.9",
         "32.1868",
         "326"
        ],
        [
         "2",
         "2001",
         "2.0",
         "4",
         "9.6",
         "53.10822",
         "198"
        ],
        [
         "3",
         "2018",
         "2.3",
         "4",
         "12.2",
         "41.84284",
         "252"
        ],
        [
         "4",
         "2005",
         "5.6",
         "8",
         "17.4",
         "30.57746",
         "345"
        ]
       ],
       "shape": {
        "columns": 6,
        "rows": 5
       }
      },
      "text/html": [
       "<div>\n",
       "<style scoped>\n",
       "    .dataframe tbody tr th:only-of-type {\n",
       "        vertical-align: middle;\n",
       "    }\n",
       "\n",
       "    .dataframe tbody tr th {\n",
       "        vertical-align: top;\n",
       "    }\n",
       "\n",
       "    .dataframe thead th {\n",
       "        text-align: right;\n",
       "    }\n",
       "</style>\n",
       "<table border=\"1\" class=\"dataframe\">\n",
       "  <thead>\n",
       "    <tr style=\"text-align: right;\">\n",
       "      <th></th>\n",
       "      <th>YEAR</th>\n",
       "      <th>ENGINE SIZE</th>\n",
       "      <th>CYLINDERS</th>\n",
       "      <th>FUEL CONSUMPTION</th>\n",
       "      <th>KMXGALON</th>\n",
       "      <th>EMISSIONS</th>\n",
       "    </tr>\n",
       "  </thead>\n",
       "  <tbody>\n",
       "    <tr>\n",
       "      <th>0</th>\n",
       "      <td>2007</td>\n",
       "      <td>5.3</td>\n",
       "      <td>8</td>\n",
       "      <td>21.0</td>\n",
       "      <td>24.14010</td>\n",
       "      <td>298</td>\n",
       "    </tr>\n",
       "    <tr>\n",
       "      <th>1</th>\n",
       "      <td>2020</td>\n",
       "      <td>5.3</td>\n",
       "      <td>8</td>\n",
       "      <td>15.9</td>\n",
       "      <td>32.18680</td>\n",
       "      <td>326</td>\n",
       "    </tr>\n",
       "    <tr>\n",
       "      <th>2</th>\n",
       "      <td>2001</td>\n",
       "      <td>2.0</td>\n",
       "      <td>4</td>\n",
       "      <td>9.6</td>\n",
       "      <td>53.10822</td>\n",
       "      <td>198</td>\n",
       "    </tr>\n",
       "    <tr>\n",
       "      <th>3</th>\n",
       "      <td>2018</td>\n",
       "      <td>2.3</td>\n",
       "      <td>4</td>\n",
       "      <td>12.2</td>\n",
       "      <td>41.84284</td>\n",
       "      <td>252</td>\n",
       "    </tr>\n",
       "    <tr>\n",
       "      <th>4</th>\n",
       "      <td>2005</td>\n",
       "      <td>5.6</td>\n",
       "      <td>8</td>\n",
       "      <td>17.4</td>\n",
       "      <td>30.57746</td>\n",
       "      <td>345</td>\n",
       "    </tr>\n",
       "  </tbody>\n",
       "</table>\n",
       "</div>"
      ],
      "text/plain": [
       "   YEAR  ENGINE SIZE  CYLINDERS  FUEL CONSUMPTION  KMXGALON  EMISSIONS\n",
       "0  2007          5.3          8              21.0  24.14010        298\n",
       "1  2020          5.3          8              15.9  32.18680        326\n",
       "2  2001          2.0          4               9.6  53.10822        198\n",
       "3  2018          2.3          4              12.2  41.84284        252\n",
       "4  2005          5.6          8              17.4  30.57746        345"
      ]
     },
     "execution_count": 48,
     "metadata": {},
     "output_type": "execute_result"
    }
   ],
   "source": [
    "numCols=df.select_dtypes(include = ['float64','int32','int64']).columns.tolist()\n",
    "df[numCols].head()"
   ]
  },
  {
   "cell_type": "code",
   "execution_count": 49,
   "id": "1694e7bc",
   "metadata": {},
   "outputs": [
    {
     "data": {
      "application/vnd.microsoft.datawrangler.viewer.v0+json": {
       "columns": [
        {
         "name": "index",
         "rawType": "object",
         "type": "string"
        },
        {
         "name": "YEAR",
         "rawType": "float64",
         "type": "float"
        },
        {
         "name": "ENGINE SIZE",
         "rawType": "float64",
         "type": "float"
        },
        {
         "name": "CYLINDERS",
         "rawType": "float64",
         "type": "float"
        },
        {
         "name": "FUEL CONSUMPTION",
         "rawType": "float64",
         "type": "float"
        },
        {
         "name": "KMXGALON",
         "rawType": "float64",
         "type": "float"
        },
        {
         "name": "EMISSIONS",
         "rawType": "float64",
         "type": "float"
        }
       ],
       "ref": "56096772-f5a8-40bd-ae06-4fbf42d9d863",
       "rows": [
        [
         "count",
         "14093.0",
         "14093.0",
         "14093.0",
         "14093.0",
         "14093.0",
         "14093.0"
        ],
        [
         "mean",
         "2011.776484779678",
         "3.2258993826722486",
         "5.690271766125027",
         "12.45000354786064",
         "44.75616449301071",
         "245.75654580288085"
        ],
        [
         "std",
         "6.348677042382506",
         "1.2682515585268144",
         "1.7134951378705703",
         "3.192742449677584",
         "11.275169712986683",
         "55.56031244340264"
        ],
        [
         "min",
         "2000.0",
         "1.0",
         "2.0",
         "4.2",
         "19.31208",
         "96.0"
        ],
        [
         "25%",
         "2007.0",
         "2.0",
         "4.0",
         "10.3",
         "37.01482",
         "207.0"
        ],
        [
         "50%",
         "2012.0",
         "3.0",
         "6.0",
         "12.0",
         "43.45218",
         "239.0"
        ],
        [
         "75%",
         "2017.0",
         "3.9",
         "6.0",
         "14.3",
         "49.88954",
         "281.0"
        ],
        [
         "max",
         "2022.0",
         "8.4",
         "12.0",
         "27.9",
         "111.04446",
         "404.0"
        ]
       ],
       "shape": {
        "columns": 6,
        "rows": 8
       }
      },
      "text/html": [
       "<div>\n",
       "<style scoped>\n",
       "    .dataframe tbody tr th:only-of-type {\n",
       "        vertical-align: middle;\n",
       "    }\n",
       "\n",
       "    .dataframe tbody tr th {\n",
       "        vertical-align: top;\n",
       "    }\n",
       "\n",
       "    .dataframe thead th {\n",
       "        text-align: right;\n",
       "    }\n",
       "</style>\n",
       "<table border=\"1\" class=\"dataframe\">\n",
       "  <thead>\n",
       "    <tr style=\"text-align: right;\">\n",
       "      <th></th>\n",
       "      <th>YEAR</th>\n",
       "      <th>ENGINE SIZE</th>\n",
       "      <th>CYLINDERS</th>\n",
       "      <th>FUEL CONSUMPTION</th>\n",
       "      <th>KMXGALON</th>\n",
       "      <th>EMISSIONS</th>\n",
       "    </tr>\n",
       "  </thead>\n",
       "  <tbody>\n",
       "    <tr>\n",
       "      <th>count</th>\n",
       "      <td>14093.000000</td>\n",
       "      <td>14093.000000</td>\n",
       "      <td>14093.000000</td>\n",
       "      <td>14093.000000</td>\n",
       "      <td>14093.000000</td>\n",
       "      <td>14093.000000</td>\n",
       "    </tr>\n",
       "    <tr>\n",
       "      <th>mean</th>\n",
       "      <td>2011.776485</td>\n",
       "      <td>3.225899</td>\n",
       "      <td>5.690272</td>\n",
       "      <td>12.450004</td>\n",
       "      <td>44.756164</td>\n",
       "      <td>245.756546</td>\n",
       "    </tr>\n",
       "    <tr>\n",
       "      <th>std</th>\n",
       "      <td>6.348677</td>\n",
       "      <td>1.268252</td>\n",
       "      <td>1.713495</td>\n",
       "      <td>3.192742</td>\n",
       "      <td>11.275170</td>\n",
       "      <td>55.560312</td>\n",
       "    </tr>\n",
       "    <tr>\n",
       "      <th>min</th>\n",
       "      <td>2000.000000</td>\n",
       "      <td>1.000000</td>\n",
       "      <td>2.000000</td>\n",
       "      <td>4.200000</td>\n",
       "      <td>19.312080</td>\n",
       "      <td>96.000000</td>\n",
       "    </tr>\n",
       "    <tr>\n",
       "      <th>25%</th>\n",
       "      <td>2007.000000</td>\n",
       "      <td>2.000000</td>\n",
       "      <td>4.000000</td>\n",
       "      <td>10.300000</td>\n",
       "      <td>37.014820</td>\n",
       "      <td>207.000000</td>\n",
       "    </tr>\n",
       "    <tr>\n",
       "      <th>50%</th>\n",
       "      <td>2012.000000</td>\n",
       "      <td>3.000000</td>\n",
       "      <td>6.000000</td>\n",
       "      <td>12.000000</td>\n",
       "      <td>43.452180</td>\n",
       "      <td>239.000000</td>\n",
       "    </tr>\n",
       "    <tr>\n",
       "      <th>75%</th>\n",
       "      <td>2017.000000</td>\n",
       "      <td>3.900000</td>\n",
       "      <td>6.000000</td>\n",
       "      <td>14.300000</td>\n",
       "      <td>49.889540</td>\n",
       "      <td>281.000000</td>\n",
       "    </tr>\n",
       "    <tr>\n",
       "      <th>max</th>\n",
       "      <td>2022.000000</td>\n",
       "      <td>8.400000</td>\n",
       "      <td>12.000000</td>\n",
       "      <td>27.900000</td>\n",
       "      <td>111.044460</td>\n",
       "      <td>404.000000</td>\n",
       "    </tr>\n",
       "  </tbody>\n",
       "</table>\n",
       "</div>"
      ],
      "text/plain": [
       "               YEAR   ENGINE SIZE     CYLINDERS  FUEL CONSUMPTION  \\\n",
       "count  14093.000000  14093.000000  14093.000000      14093.000000   \n",
       "mean    2011.776485      3.225899      5.690272         12.450004   \n",
       "std        6.348677      1.268252      1.713495          3.192742   \n",
       "min     2000.000000      1.000000      2.000000          4.200000   \n",
       "25%     2007.000000      2.000000      4.000000         10.300000   \n",
       "50%     2012.000000      3.000000      6.000000         12.000000   \n",
       "75%     2017.000000      3.900000      6.000000         14.300000   \n",
       "max     2022.000000      8.400000     12.000000         27.900000   \n",
       "\n",
       "           KMXGALON     EMISSIONS  \n",
       "count  14093.000000  14093.000000  \n",
       "mean      44.756164    245.756546  \n",
       "std       11.275170     55.560312  \n",
       "min       19.312080     96.000000  \n",
       "25%       37.014820    207.000000  \n",
       "50%       43.452180    239.000000  \n",
       "75%       49.889540    281.000000  \n",
       "max      111.044460    404.000000  "
      ]
     },
     "execution_count": 49,
     "metadata": {},
     "output_type": "execute_result"
    }
   ],
   "source": [
    "df[numCols].describe()"
   ]
  },
  {
   "cell_type": "code",
   "execution_count": 50,
   "id": "62668246",
   "metadata": {},
   "outputs": [],
   "source": [
    "px.scatter_matrix(df, dimensions=numCols).update_layout(\n",
    "    title=\"Matriz de dispersión de variables numéricas\",              \n",
    "    height=1200\n",
    ")"
   ]
  },
  {
   "cell_type": "code",
   "execution_count": 51,
   "id": "c7c85161",
   "metadata": {},
   "outputs": [
    {
     "data": {
      "application/vnd.microsoft.datawrangler.viewer.v0+json": {
       "columns": [
        {
         "name": "index",
         "rawType": "object",
         "type": "string"
        },
        {
         "name": "YEAR",
         "rawType": "float64",
         "type": "float"
        },
        {
         "name": "ENGINE SIZE",
         "rawType": "float64",
         "type": "float"
        },
        {
         "name": "CYLINDERS",
         "rawType": "float64",
         "type": "float"
        },
        {
         "name": "FUEL CONSUMPTION",
         "rawType": "float64",
         "type": "float"
        },
        {
         "name": "KMXGALON",
         "rawType": "float64",
         "type": "float"
        },
        {
         "name": "EMISSIONS",
         "rawType": "float64",
         "type": "float"
        }
       ],
       "ref": "277f5a23-0bb3-4ee8-889e-e7166187f0fd",
       "rows": [
        [
         "YEAR",
         "1.0",
         "-0.08283815154987156",
         "-0.09389273917604554",
         "-0.10688397068871387",
         "0.09486761976473476",
         "-0.054902930758497365"
        ],
        [
         "ENGINE SIZE",
         "-0.08283815154987156",
         "1.0",
         "0.9184402951546273",
         "0.834071249287362",
         "-0.7613218196400299",
         "0.8328646483710169"
        ],
        [
         "CYLINDERS",
         "-0.09389273917604554",
         "0.9184402951546273",
         "1.0",
         "0.8163960462334926",
         "-0.7355150482101209",
         "0.8202024203621405"
        ],
        [
         "FUEL CONSUMPTION",
         "-0.10688397068871387",
         "0.834071249287362",
         "0.8163960462334926",
         "1.0",
         "-0.9350419452139394",
         "0.9302985920954548"
        ],
        [
         "KMXGALON",
         "0.09486761976473476",
         "-0.7613218196400299",
         "-0.7355150482101209",
         "-0.9350419452139394",
         "1.0",
         "-0.9210854353154163"
        ],
        [
         "EMISSIONS",
         "-0.054902930758497365",
         "0.8328646483710169",
         "0.8202024203621405",
         "0.9302985920954548",
         "-0.9210854353154163",
         "1.0"
        ]
       ],
       "shape": {
        "columns": 6,
        "rows": 6
       }
      },
      "text/html": [
       "<div>\n",
       "<style scoped>\n",
       "    .dataframe tbody tr th:only-of-type {\n",
       "        vertical-align: middle;\n",
       "    }\n",
       "\n",
       "    .dataframe tbody tr th {\n",
       "        vertical-align: top;\n",
       "    }\n",
       "\n",
       "    .dataframe thead th {\n",
       "        text-align: right;\n",
       "    }\n",
       "</style>\n",
       "<table border=\"1\" class=\"dataframe\">\n",
       "  <thead>\n",
       "    <tr style=\"text-align: right;\">\n",
       "      <th></th>\n",
       "      <th>YEAR</th>\n",
       "      <th>ENGINE SIZE</th>\n",
       "      <th>CYLINDERS</th>\n",
       "      <th>FUEL CONSUMPTION</th>\n",
       "      <th>KMXGALON</th>\n",
       "      <th>EMISSIONS</th>\n",
       "    </tr>\n",
       "  </thead>\n",
       "  <tbody>\n",
       "    <tr>\n",
       "      <th>YEAR</th>\n",
       "      <td>1.000000</td>\n",
       "      <td>-0.082838</td>\n",
       "      <td>-0.093893</td>\n",
       "      <td>-0.106884</td>\n",
       "      <td>0.094868</td>\n",
       "      <td>-0.054903</td>\n",
       "    </tr>\n",
       "    <tr>\n",
       "      <th>ENGINE SIZE</th>\n",
       "      <td>-0.082838</td>\n",
       "      <td>1.000000</td>\n",
       "      <td>0.918440</td>\n",
       "      <td>0.834071</td>\n",
       "      <td>-0.761322</td>\n",
       "      <td>0.832865</td>\n",
       "    </tr>\n",
       "    <tr>\n",
       "      <th>CYLINDERS</th>\n",
       "      <td>-0.093893</td>\n",
       "      <td>0.918440</td>\n",
       "      <td>1.000000</td>\n",
       "      <td>0.816396</td>\n",
       "      <td>-0.735515</td>\n",
       "      <td>0.820202</td>\n",
       "    </tr>\n",
       "    <tr>\n",
       "      <th>FUEL CONSUMPTION</th>\n",
       "      <td>-0.106884</td>\n",
       "      <td>0.834071</td>\n",
       "      <td>0.816396</td>\n",
       "      <td>1.000000</td>\n",
       "      <td>-0.935042</td>\n",
       "      <td>0.930299</td>\n",
       "    </tr>\n",
       "    <tr>\n",
       "      <th>KMXGALON</th>\n",
       "      <td>0.094868</td>\n",
       "      <td>-0.761322</td>\n",
       "      <td>-0.735515</td>\n",
       "      <td>-0.935042</td>\n",
       "      <td>1.000000</td>\n",
       "      <td>-0.921085</td>\n",
       "    </tr>\n",
       "    <tr>\n",
       "      <th>EMISSIONS</th>\n",
       "      <td>-0.054903</td>\n",
       "      <td>0.832865</td>\n",
       "      <td>0.820202</td>\n",
       "      <td>0.930299</td>\n",
       "      <td>-0.921085</td>\n",
       "      <td>1.000000</td>\n",
       "    </tr>\n",
       "  </tbody>\n",
       "</table>\n",
       "</div>"
      ],
      "text/plain": [
       "                      YEAR  ENGINE SIZE  CYLINDERS  FUEL CONSUMPTION  \\\n",
       "YEAR              1.000000    -0.082838  -0.093893         -0.106884   \n",
       "ENGINE SIZE      -0.082838     1.000000   0.918440          0.834071   \n",
       "CYLINDERS        -0.093893     0.918440   1.000000          0.816396   \n",
       "FUEL CONSUMPTION -0.106884     0.834071   0.816396          1.000000   \n",
       "KMXGALON          0.094868    -0.761322  -0.735515         -0.935042   \n",
       "EMISSIONS        -0.054903     0.832865   0.820202          0.930299   \n",
       "\n",
       "                  KMXGALON  EMISSIONS  \n",
       "YEAR              0.094868  -0.054903  \n",
       "ENGINE SIZE      -0.761322   0.832865  \n",
       "CYLINDERS        -0.735515   0.820202  \n",
       "FUEL CONSUMPTION -0.935042   0.930299  \n",
       "KMXGALON          1.000000  -0.921085  \n",
       "EMISSIONS        -0.921085   1.000000  "
      ]
     },
     "execution_count": 51,
     "metadata": {},
     "output_type": "execute_result"
    }
   ],
   "source": [
    "\n",
    "df[numCols].corr()"
   ]
  },
  {
   "cell_type": "code",
   "execution_count": 52,
   "id": "fb50a9e0",
   "metadata": {},
   "outputs": [
    {
     "data": {
      "text/plain": [
       "((14093, 8), (14093, 6))"
      ]
     },
     "execution_count": 52,
     "metadata": {},
     "output_type": "execute_result"
    }
   ],
   "source": [
    "df_cat, model_cat = procesar_categoricas(df, catCols)\n",
    "df_num, model_num = procesar_numericas(df, numCols)\n",
    "\n",
    "df_cat.shape, df_num.shape"
   ]
  },
  {
   "cell_type": "code",
   "execution_count": 53,
   "id": "07593d35",
   "metadata": {},
   "outputs": [
    {
     "data": {
      "application/vnd.microsoft.datawrangler.viewer.v0+json": {
       "columns": [
        {
         "name": "index",
         "rawType": "object",
         "type": "string"
        },
        {
         "name": "YEAR_scaled",
         "rawType": "float64",
         "type": "float"
        },
        {
         "name": "ENGINE SIZE_scaled",
         "rawType": "float64",
         "type": "float"
        },
        {
         "name": "CYLINDERS_scaled",
         "rawType": "float64",
         "type": "float"
        },
        {
         "name": "FUEL CONSUMPTION_scaled",
         "rawType": "float64",
         "type": "float"
        },
        {
         "name": "KMXGALON_scaled",
         "rawType": "float64",
         "type": "float"
        },
        {
         "name": "EMISSIONS_scaled",
         "rawType": "float64",
         "type": "float"
        }
       ],
       "ref": "c5500811-c469-4f32-b619-6e67023026b9",
       "rows": [
        [
         "YEAR_scaled",
         "1.0",
         "-0.08283815154987534",
         "-0.09389273917604635",
         "-0.10688397068870839",
         "0.0948676197647266",
         "-0.05490293075849327"
        ],
        [
         "ENGINE SIZE_scaled",
         "-0.08283815154987534",
         "1.0",
         "0.918440295154631",
         "0.834071249287371",
         "-0.7613218196400237",
         "0.8328646483710187"
        ],
        [
         "CYLINDERS_scaled",
         "-0.09389273917604635",
         "0.918440295154631",
         "1.0",
         "0.8163960462334884",
         "-0.7355150482101167",
         "0.8202024203621373"
        ],
        [
         "FUEL CONSUMPTION_scaled",
         "-0.10688397068870839",
         "0.834071249287371",
         "0.8163960462334884",
         "1.0",
         "-0.9350419452139401",
         "0.9302985920954564"
        ],
        [
         "KMXGALON_scaled",
         "0.0948676197647266",
         "-0.7613218196400237",
         "-0.7355150482101167",
         "-0.9350419452139401",
         "1.0",
         "-0.921085435315422"
        ],
        [
         "EMISSIONS_scaled",
         "-0.05490293075849327",
         "0.8328646483710187",
         "0.8202024203621373",
         "0.9302985920954564",
         "-0.921085435315422",
         "1.0"
        ]
       ],
       "shape": {
        "columns": 6,
        "rows": 6
       }
      },
      "text/html": [
       "<div>\n",
       "<style scoped>\n",
       "    .dataframe tbody tr th:only-of-type {\n",
       "        vertical-align: middle;\n",
       "    }\n",
       "\n",
       "    .dataframe tbody tr th {\n",
       "        vertical-align: top;\n",
       "    }\n",
       "\n",
       "    .dataframe thead th {\n",
       "        text-align: right;\n",
       "    }\n",
       "</style>\n",
       "<table border=\"1\" class=\"dataframe\">\n",
       "  <thead>\n",
       "    <tr style=\"text-align: right;\">\n",
       "      <th></th>\n",
       "      <th>YEAR_scaled</th>\n",
       "      <th>ENGINE SIZE_scaled</th>\n",
       "      <th>CYLINDERS_scaled</th>\n",
       "      <th>FUEL CONSUMPTION_scaled</th>\n",
       "      <th>KMXGALON_scaled</th>\n",
       "      <th>EMISSIONS_scaled</th>\n",
       "    </tr>\n",
       "  </thead>\n",
       "  <tbody>\n",
       "    <tr>\n",
       "      <th>YEAR_scaled</th>\n",
       "      <td>1.000000</td>\n",
       "      <td>-0.082838</td>\n",
       "      <td>-0.093893</td>\n",
       "      <td>-0.106884</td>\n",
       "      <td>0.094868</td>\n",
       "      <td>-0.054903</td>\n",
       "    </tr>\n",
       "    <tr>\n",
       "      <th>ENGINE SIZE_scaled</th>\n",
       "      <td>-0.082838</td>\n",
       "      <td>1.000000</td>\n",
       "      <td>0.918440</td>\n",
       "      <td>0.834071</td>\n",
       "      <td>-0.761322</td>\n",
       "      <td>0.832865</td>\n",
       "    </tr>\n",
       "    <tr>\n",
       "      <th>CYLINDERS_scaled</th>\n",
       "      <td>-0.093893</td>\n",
       "      <td>0.918440</td>\n",
       "      <td>1.000000</td>\n",
       "      <td>0.816396</td>\n",
       "      <td>-0.735515</td>\n",
       "      <td>0.820202</td>\n",
       "    </tr>\n",
       "    <tr>\n",
       "      <th>FUEL CONSUMPTION_scaled</th>\n",
       "      <td>-0.106884</td>\n",
       "      <td>0.834071</td>\n",
       "      <td>0.816396</td>\n",
       "      <td>1.000000</td>\n",
       "      <td>-0.935042</td>\n",
       "      <td>0.930299</td>\n",
       "    </tr>\n",
       "    <tr>\n",
       "      <th>KMXGALON_scaled</th>\n",
       "      <td>0.094868</td>\n",
       "      <td>-0.761322</td>\n",
       "      <td>-0.735515</td>\n",
       "      <td>-0.935042</td>\n",
       "      <td>1.000000</td>\n",
       "      <td>-0.921085</td>\n",
       "    </tr>\n",
       "    <tr>\n",
       "      <th>EMISSIONS_scaled</th>\n",
       "      <td>-0.054903</td>\n",
       "      <td>0.832865</td>\n",
       "      <td>0.820202</td>\n",
       "      <td>0.930299</td>\n",
       "      <td>-0.921085</td>\n",
       "      <td>1.000000</td>\n",
       "    </tr>\n",
       "  </tbody>\n",
       "</table>\n",
       "</div>"
      ],
      "text/plain": [
       "                         YEAR_scaled  ENGINE SIZE_scaled  CYLINDERS_scaled  \\\n",
       "YEAR_scaled                 1.000000           -0.082838         -0.093893   \n",
       "ENGINE SIZE_scaled         -0.082838            1.000000          0.918440   \n",
       "CYLINDERS_scaled           -0.093893            0.918440          1.000000   \n",
       "FUEL CONSUMPTION_scaled    -0.106884            0.834071          0.816396   \n",
       "KMXGALON_scaled             0.094868           -0.761322         -0.735515   \n",
       "EMISSIONS_scaled           -0.054903            0.832865          0.820202   \n",
       "\n",
       "                         FUEL CONSUMPTION_scaled  KMXGALON_scaled  \\\n",
       "YEAR_scaled                            -0.106884         0.094868   \n",
       "ENGINE SIZE_scaled                      0.834071        -0.761322   \n",
       "CYLINDERS_scaled                        0.816396        -0.735515   \n",
       "FUEL CONSUMPTION_scaled                 1.000000        -0.935042   \n",
       "KMXGALON_scaled                        -0.935042         1.000000   \n",
       "EMISSIONS_scaled                        0.930299        -0.921085   \n",
       "\n",
       "                         EMISSIONS_scaled  \n",
       "YEAR_scaled                     -0.054903  \n",
       "ENGINE SIZE_scaled               0.832865  \n",
       "CYLINDERS_scaled                 0.820202  \n",
       "FUEL CONSUMPTION_scaled          0.930299  \n",
       "KMXGALON_scaled                 -0.921085  \n",
       "EMISSIONS_scaled                 1.000000  "
      ]
     },
     "execution_count": 53,
     "metadata": {},
     "output_type": "execute_result"
    }
   ],
   "source": [
    "df_num.corr()"
   ]
  },
  {
   "cell_type": "code",
   "execution_count": 54,
   "id": "59607c53",
   "metadata": {},
   "outputs": [
    {
     "data": {
      "text/plain": [
       "((14093, 5), (14093, 2))"
      ]
     },
     "execution_count": 54,
     "metadata": {},
     "output_type": "execute_result"
    }
   ],
   "source": [
    "df_pca_cat, model_pca_cat = aplicar_pca(df_cat, variance_threshold=0.9)\n",
    "df_pca_num, model_pca_num = aplicar_pca(df_num.drop([\"EMISSIONS_scaled\"], axis=1), variance_threshold=0.9)\n",
    "\n",
    "df_pca_cat.shape, df_pca_num.shape"
   ]
  },
  {
   "cell_type": "code",
   "execution_count": 55,
   "id": "4a68f9e1",
   "metadata": {},
   "outputs": [],
   "source": [
    "y = df_num['EMISSIONS_scaled']\n",
    "X = pd.concat([df_pca_cat, df_pca_num], axis=1)\n",
    "\n",
    "X_train, X_test, y_train, y_test = train_test_split(\n",
    "    X, y, test_size=0.2, random_state=42\n",
    ")"
   ]
  },
  {
   "cell_type": "code",
   "execution_count": 56,
   "id": "47476302",
   "metadata": {},
   "outputs": [
    {
     "name": "stdout",
     "output_type": "stream",
     "text": [
      "Train R2: 0.8858 | Test R2: 0.8915\n",
      "Train RMSE: 0.3379 | Test RMSE: 0.3296\n",
      "Test MAE: 0.2439\n",
      "Test MSE: 0.1086\n"
     ]
    }
   ],
   "source": [
    "# Entrenar LinearRegression con X_train / y_train y evaluar sobre X_test / y_test\n",
    "\n",
    "model = LinearRegression().fit(X_train, y_train)\n",
    "\n",
    "# Predicciones\n",
    "y_pred = model.predict(X_test)\n",
    "y_pred_train = model.predict(X_train)\n",
    "\n",
    "# Métricas\n",
    "mse_train = mean_squared_error(y_train, y_pred_train)\n",
    "rmse_train = np.sqrt(mse_train)\n",
    "r2_train = r2_score(y_train, y_pred_train)\n",
    "\n",
    "mse_test = mean_squared_error(y_test, y_pred)\n",
    "rmse_test = np.sqrt(mse_test)\n",
    "r2_test = r2_score(y_test, y_pred)\n",
    "mae_test = np.mean(np.abs(y_test - y_pred))\n",
    "\n",
    "# Mostrar resultados\n",
    "print(f\"Train R2: {r2_train:.4f} | Test R2: {r2_test:.4f}\")\n",
    "print(f\"Train RMSE: {rmse_train:.4f} | Test RMSE: {rmse_test:.4f}\")\n",
    "print(f\"Test MAE: {mae_test:.4f}\")\n",
    "print(f\"Test MSE: {mse_test:.4f}\")\n",
    "\n",
    "# Gráfico True vs Predicho (interactividad con plotly)\n",
    "xmin = min(y_test.min(), y_pred.min())\n",
    "xmax = max(y_test.max(), y_pred.max())\n",
    "\n",
    "fig = px.scatter(x=y_test, y=y_pred, labels={'x':'y_true','y':'y_pred'}, title='LinearRegression - True vs Predicted')\n",
    "fig.update_layout(shapes=[dict(type='line', x0=xmin, x1=xmax, y0=xmin, y1=xmax, line=dict(color='red', dash='dash'))])\n"
   ]
  },
  {
   "cell_type": "code",
   "execution_count": 57,
   "id": "4bfb271f",
   "metadata": {},
   "outputs": [],
   "source": [
    "def evaluar_regresores_holdout(X_train, X_test, y_train, y_test, modelos=None):\n",
    "    \"\"\"\n",
    "    Entrena y evalúa varios REGRESORES en un holdout (ya tienes el split).\n",
    "    No aplica ningún escalado/transformación.\n",
    "    Devuelve:\n",
    "      - DataFrame con métricas por modelo (R2, MAE, RMSE)\n",
    "      - dict de modelos entrenados\n",
    "      - dict de predicciones en X_test por modelo\n",
    "    \"\"\"\n",
    "    if modelos is None:\n",
    "        modelos = {\n",
    "            \"RandomForest\": RandomForestRegressor(n_estimators=400, n_jobs=-1, random_state=42),\n",
    "            \"SVR-RBF\": SVR(kernel=\"rbf\", C=1.0, gamma=\"scale\", epsilon=0.1),\n",
    "            \"GradientBoosting\": GradientBoostingRegressor(random_state=42),\n",
    "            \"Lasso\": Lasso(alpha=0.1, random_state=42),\n",
    "            \"LinearRegression\": LinearRegression(),\n",
    "        }\n",
    "\n",
    "    filas, entrenados, preds = [], {}, {}\n",
    "    for nombre, est in modelos.items():\n",
    "        est.fit(X_train, y_train)\n",
    "        y_pred = est.predict(X_test)\n",
    "\n",
    "        entrenados[nombre] = est\n",
    "        preds[nombre] = y_pred\n",
    "\n",
    "        filas.append({\n",
    "            \"modelo\": nombre,\n",
    "            \"r2\": r2_score(y_test, y_pred),\n",
    "            \"mae\": mean_absolute_error(y_test, y_pred),\n",
    "            \"rmse\": mean_squared_error(y_test, y_pred),\n",
    "        })\n",
    "\n",
    "    resultados = pd.DataFrame(filas).sort_values(\"rmse\").reset_index(drop=True)\n",
    "    return resultados, entrenados, preds"
   ]
  },
  {
   "cell_type": "code",
   "execution_count": 58,
   "id": "8bd57686",
   "metadata": {},
   "outputs": [
    {
     "data": {
      "application/vnd.microsoft.datawrangler.viewer.v0+json": {
       "columns": [
        {
         "name": "index",
         "rawType": "int64",
         "type": "integer"
        },
        {
         "name": "modelo",
         "rawType": "object",
         "type": "string"
        },
        {
         "name": "r2",
         "rawType": "float64",
         "type": "float"
        },
        {
         "name": "mae",
         "rawType": "float64",
         "type": "float"
        },
        {
         "name": "rmse",
         "rawType": "float64",
         "type": "float"
        }
       ],
       "ref": "19557546-f83f-4130-9827-e90107de1623",
       "rows": [
        [
         "0",
         "RandomForest",
         "0.9798583309892706",
         "0.0949227714650741",
         "0.020169672823754925"
        ],
        [
         "1",
         "GradientBoosting",
         "0.957909376869301",
         "0.14434033897075116",
         "0.04214914350156053"
        ],
        [
         "2",
         "SVR-RBF",
         "0.9545491943463035",
         "0.15350776097645125",
         "0.0455139978282232"
        ],
        [
         "3",
         "LinearRegression",
         "0.8915204854566852",
         "0.2439108134724291",
         "0.10863033819356697"
        ],
        [
         "4",
         "Lasso",
         "0.8728812612332142",
         "0.27312431837527296",
         "0.1272954773176262"
        ]
       ],
       "shape": {
        "columns": 4,
        "rows": 5
       }
      },
      "text/html": [
       "<div>\n",
       "<style scoped>\n",
       "    .dataframe tbody tr th:only-of-type {\n",
       "        vertical-align: middle;\n",
       "    }\n",
       "\n",
       "    .dataframe tbody tr th {\n",
       "        vertical-align: top;\n",
       "    }\n",
       "\n",
       "    .dataframe thead th {\n",
       "        text-align: right;\n",
       "    }\n",
       "</style>\n",
       "<table border=\"1\" class=\"dataframe\">\n",
       "  <thead>\n",
       "    <tr style=\"text-align: right;\">\n",
       "      <th></th>\n",
       "      <th>modelo</th>\n",
       "      <th>r2</th>\n",
       "      <th>mae</th>\n",
       "      <th>rmse</th>\n",
       "    </tr>\n",
       "  </thead>\n",
       "  <tbody>\n",
       "    <tr>\n",
       "      <th>0</th>\n",
       "      <td>RandomForest</td>\n",
       "      <td>0.979858</td>\n",
       "      <td>0.094923</td>\n",
       "      <td>0.020170</td>\n",
       "    </tr>\n",
       "    <tr>\n",
       "      <th>1</th>\n",
       "      <td>GradientBoosting</td>\n",
       "      <td>0.957909</td>\n",
       "      <td>0.144340</td>\n",
       "      <td>0.042149</td>\n",
       "    </tr>\n",
       "    <tr>\n",
       "      <th>2</th>\n",
       "      <td>SVR-RBF</td>\n",
       "      <td>0.954549</td>\n",
       "      <td>0.153508</td>\n",
       "      <td>0.045514</td>\n",
       "    </tr>\n",
       "    <tr>\n",
       "      <th>3</th>\n",
       "      <td>LinearRegression</td>\n",
       "      <td>0.891520</td>\n",
       "      <td>0.243911</td>\n",
       "      <td>0.108630</td>\n",
       "    </tr>\n",
       "    <tr>\n",
       "      <th>4</th>\n",
       "      <td>Lasso</td>\n",
       "      <td>0.872881</td>\n",
       "      <td>0.273124</td>\n",
       "      <td>0.127295</td>\n",
       "    </tr>\n",
       "  </tbody>\n",
       "</table>\n",
       "</div>"
      ],
      "text/plain": [
       "             modelo        r2       mae      rmse\n",
       "0      RandomForest  0.979858  0.094923  0.020170\n",
       "1  GradientBoosting  0.957909  0.144340  0.042149\n",
       "2           SVR-RBF  0.954549  0.153508  0.045514\n",
       "3  LinearRegression  0.891520  0.243911  0.108630\n",
       "4             Lasso  0.872881  0.273124  0.127295"
      ]
     },
     "execution_count": 58,
     "metadata": {},
     "output_type": "execute_result"
    }
   ],
   "source": [
    "results, entrenados, preds = evaluar_regresores_holdout(X_train, X_test, y_train, y_test)\n",
    "results"
   ]
  }
 ],
 "metadata": {
  "kernelspec": {
   "display_name": ".venv (3.11.9)",
   "language": "python",
   "name": "python3"
  },
  "language_info": {
   "codemirror_mode": {
    "name": "ipython",
    "version": 3
   },
   "file_extension": ".py",
   "mimetype": "text/x-python",
   "name": "python",
   "nbconvert_exporter": "python",
   "pygments_lexer": "ipython3",
   "version": "3.11.9"
  }
 },
 "nbformat": 4,
 "nbformat_minor": 5
}
