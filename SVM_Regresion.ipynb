{
 "cells": [
  {
   "cell_type": "code",
   "execution_count": 2,
   "id": "b5b92f01",
   "metadata": {},
   "outputs": [],
   "source": [
    "# Tratamiento de datos\n",
    "# ==============================================================================\n",
    "import pandas as pd\n",
    "import numpy as np\n",
    "\n",
    "\n",
    "\n",
    "# Almacenar en caché los resultados de funciones en el disco\n",
    "# ==============================================================================\n",
    "import joblib\n",
    "\n",
    "\n",
    "# Gestion de librerias\n",
    "# ==============================================================================\n",
    "from importlib import reload\n",
    "\n",
    "\n",
    "# Preprocesado y modelado\n",
    "# ==============================================================================\n",
    "from scipy.stats import pearsonr\n",
    "from scipy import stats\n",
    "import math\n",
    "\n",
    "#Separar los datos entrenamiento y prueba\n",
    "from sklearn.model_selection import train_test_split\n",
    "from sklearn.model_selection import GridSearchCV\n",
    "from sklearn.model_selection import cross_val_score\n",
    "from sklearn.model_selection import cross_validate\n",
    "\n",
    "\n",
    "#Escalar Variables\n",
    "from sklearn.preprocessing import MinMaxScaler\n",
    "\n",
    "#Evaluación del modelo\n",
    "from sklearn.metrics import r2_score\n",
    "from sklearn.metrics import mean_squared_error\n",
    "from sklearn.metrics import mean_absolute_error\n",
    "from sklearn.metrics import median_absolute_error\n",
    "\n",
    "#Creación de modelo\n",
    "from sklearn.svm import SVR\n",
    "\n",
    "# Gráficos\n",
    "# ==============================================================================\n",
    "import matplotlib.pyplot as plt\n",
    "from matplotlib import style\n",
    "import seaborn as sns\n",
    "\n",
    "from funciones import multiple_plot\n",
    "\n",
    "\n",
    "# Configuración warnings\n",
    "# ==============================================================================\n",
    "import warnings\n",
    "warnings.filterwarnings('ignore')"
   ]
  },
  {
   "cell_type": "code",
   "execution_count": 4,
   "id": "cfd8b31d",
   "metadata": {},
   "outputs": [],
   "source": [
    "d=pd.read_csv('3_Fuel_Consumption_2000-2022_Prep.csv')"
   ]
  },
  {
   "cell_type": "code",
   "execution_count": 5,
   "id": "f1da5cbc",
   "metadata": {},
   "outputs": [],
   "source": [
    "catCols = d.select_dtypes(include = [\"object\", 'category']).columns.tolist()\n",
    "numCols=d.select_dtypes(include = ['float64','float64','int32','int64']).columns.tolist()\n",
    "numCols.remove('EMISSIONS')"
   ]
  },
  {
   "cell_type": "code",
   "execution_count": 8,
   "id": "80bda4cd",
   "metadata": {},
   "outputs": [
    {
     "name": "stdout",
     "output_type": "stream",
     "text": [
      "count   14093\n",
      "mean      246\n",
      "std        56\n",
      "min        96\n",
      "25%       207\n",
      "50%       239\n",
      "75%       281\n",
      "85%       308\n",
      "90%       324\n",
      "95%       347\n",
      "97.5%     365\n",
      "100%      404\n",
      "max       404\n",
      "Name: EMISSIONS, dtype: float64\n"
     ]
    }
   ],
   "source": [
    "pd.set_option('display.float_format', lambda x: '%.0f' % x)\n",
    "\n",
    "print(d.EMISSIONS.describe(percentiles = [0.25,0.50,0.75,0.85,0.90,0.95,0.975,1]))"
   ]
  },
  {
   "cell_type": "code",
   "execution_count": 10,
   "id": "cfde3c69",
   "metadata": {},
   "outputs": [],
   "source": [
    "d =pd.get_dummies(d, drop_first=1)\n",
    "X = d.drop(columns = \"EMISSIONS\")\n",
    "y = d['EMISSIONS']"
   ]
  },
  {
   "cell_type": "code",
   "execution_count": 11,
   "id": "27ce1d1c",
   "metadata": {},
   "outputs": [],
   "source": [
    "\n",
    "X_train, X_test, y_train, y_test = train_test_split(\n",
    "                                        X,\n",
    "                                        y.values.reshape(-1,1),\n",
    "                                        train_size   = 0.8,\n",
    "                                        random_state = 1234,\n",
    "                                        shuffle      = True\n",
    "                                    )"
   ]
  },
  {
   "cell_type": "code",
   "execution_count": 12,
   "id": "2c11b4fe",
   "metadata": {},
   "outputs": [
    {
     "data": {
      "application/vnd.microsoft.datawrangler.viewer.v0+json": {
       "columns": [
        {
         "name": "index",
         "rawType": "int64",
         "type": "integer"
        },
        {
         "name": "YEAR",
         "rawType": "float64",
         "type": "float"
        },
        {
         "name": "ENGINE SIZE",
         "rawType": "float64",
         "type": "float"
        },
        {
         "name": "CYLINDERS",
         "rawType": "float64",
         "type": "float"
        },
        {
         "name": "FUEL CONSUMPTION",
         "rawType": "float64",
         "type": "float"
        },
        {
         "name": "KMXGALON",
         "rawType": "float64",
         "type": "float"
        }
       ],
       "ref": "92c16426-aea1-4d37-b9d3-f1c495fb693b",
       "rows": [
        [
         "2582",
         "0.5909090909090935",
         "0.3648648648648648",
         "0.4000000000000001",
         "0.36286919831223624",
         "0.22807017543859645"
        ],
        [
         "2320",
         "0.6363636363636402",
         "0.3513513513513513",
         "0.4000000000000001",
         "0.3544303797468354",
         "0.2807017543859649"
        ]
       ],
       "shape": {
        "columns": 5,
        "rows": 2
       }
      },
      "text/html": [
       "<div>\n",
       "<style scoped>\n",
       "    .dataframe tbody tr th:only-of-type {\n",
       "        vertical-align: middle;\n",
       "    }\n",
       "\n",
       "    .dataframe tbody tr th {\n",
       "        vertical-align: top;\n",
       "    }\n",
       "\n",
       "    .dataframe thead th {\n",
       "        text-align: right;\n",
       "    }\n",
       "</style>\n",
       "<table border=\"1\" class=\"dataframe\">\n",
       "  <thead>\n",
       "    <tr style=\"text-align: right;\">\n",
       "      <th></th>\n",
       "      <th>YEAR</th>\n",
       "      <th>ENGINE SIZE</th>\n",
       "      <th>CYLINDERS</th>\n",
       "      <th>FUEL CONSUMPTION</th>\n",
       "      <th>KMXGALON</th>\n",
       "    </tr>\n",
       "  </thead>\n",
       "  <tbody>\n",
       "    <tr>\n",
       "      <th>2582</th>\n",
       "      <td>0.5909</td>\n",
       "      <td>0.3649</td>\n",
       "      <td>0.4000</td>\n",
       "      <td>0.3629</td>\n",
       "      <td>0.2281</td>\n",
       "    </tr>\n",
       "    <tr>\n",
       "      <th>2320</th>\n",
       "      <td>0.6364</td>\n",
       "      <td>0.3514</td>\n",
       "      <td>0.4000</td>\n",
       "      <td>0.3544</td>\n",
       "      <td>0.2807</td>\n",
       "    </tr>\n",
       "  </tbody>\n",
       "</table>\n",
       "</div>"
      ],
      "text/plain": [
       "       YEAR  ENGINE SIZE  CYLINDERS  FUEL CONSUMPTION  KMXGALON\n",
       "2582 0.5909       0.3649     0.4000            0.3629    0.2281\n",
       "2320 0.6364       0.3514     0.4000            0.3544    0.2807"
      ]
     },
     "execution_count": 12,
     "metadata": {},
     "output_type": "execute_result"
    }
   ],
   "source": [
    "num_vars = numCols\n",
    "pd.set_option('display.float_format', lambda x: '%.4f' % x)\n",
    "\n",
    "# Se crea un objeto MinMaxScaler\n",
    "scaler = MinMaxScaler()\n",
    "\n",
    "# Se escalan los valores del dataset entrenamiento y prueba de las columnas numéricas\n",
    "X_train[num_vars] = scaler.fit_transform(X_train[num_vars])\n",
    "X_test[num_vars] = scaler.transform(X_test[num_vars])\n",
    "\n",
    "X_train[num_vars].head(2)"
   ]
  },
  {
   "cell_type": "code",
   "execution_count": null,
   "id": "d9288805",
   "metadata": {},
   "outputs": [],
   "source": [
    "SVMR_linear    = SVR(kernel='linear' , C = 1000)\n",
    "SVMR_Pol2   = SVR(kernel='poly'   , C = 1000, degree = 2)\n",
    "SVMR_Pol3   = SVR(kernel='poly'   , C = 1000, degree = 3)\n",
    "SVMR_rbf   = SVR(kernel='rbf'    , C = 1000)\n",
    "SVMR_sig   = SVR(kernel='sigmoid', C = 1000)\n",
    "\n",
    "\n",
    "SVMR_linear.fit(X_train, y_train)\n",
    "SVMR_Pol2.fit(X_train, y_train)\n",
    "SVMR_Pol3.fit(X_train, y_train)\n",
    "SVMR_rbf.fit(X_train, y_train)\n",
    "SVMR_sig.fit(X_train, y_train)\n"
   ]
  },
  {
   "cell_type": "code",
   "execution_count": null,
   "id": "6cea6d86",
   "metadata": {},
   "outputs": [],
   "source": [
    "print('Linear   Training: ', SVMR_linear.score(X_train,y_train), 'Test:',r2_score(y_test,SVMR_linear.predict(X_test)))\n",
    "print('Poly 2   Training: ', SVMR_Pol2.score(X_train,y_train), 'Test:',r2_score(y_test,SVMR_Pol2.predict(X_test)))\n",
    "print('Poly 3   Training: ', SVMR_Pol3.score(X_train,y_train), 'Test:',r2_score(y_test,SVMR_Pol3.predict(X_test)))\n",
    "print('rbf      Training: ', SVMR_rbf.score(X_train,y_train), 'Test:',r2_score(y_test,SVMR_rbf.predict(X_test)))\n",
    "print('sigmoide Training: ', SVMR_sig.score(X_train,y_train), 'Test:',r2_score(y_test,SVMR_sig.predict(X_test)))\n"
   ]
  },
  {
   "cell_type": "code",
   "execution_count": null,
   "id": "9ff427d1",
   "metadata": {},
   "outputs": [],
   "source": [
    "# Nuevamente se asigna a 'X_Completo' y 'y_Completo' los datos entrada y salida respectivamente\n",
    "X_Completo = X\n",
    "y_Completo = y\n",
    "\n",
    "# Se escalan los datos numéricos de entrada\n",
    "X_Completo[num_vars] = scaler.fit_transform(X_Completo[num_vars])"
   ]
  },
  {
   "cell_type": "code",
   "execution_count": null,
   "id": "368feabf",
   "metadata": {},
   "outputs": [],
   "source": [
    "joblib.dump(scaler, 'scaler/minmaxSVM.pkl')"
   ]
  },
  {
   "cell_type": "code",
   "execution_count": null,
   "id": "77f40864",
   "metadata": {},
   "outputs": [],
   "source": [
    "#Se entena el modelo con múltiples hiperparámetros buscando el mejor\n",
    "\n",
    "#Se crea una instancia de una SVR Regression\n",
    "modelsvr = SVR()\n",
    "\n",
    "CV = 10\n",
    "\n",
    "#Se establecen los hiperparámetros para el Kernel lineal\n",
    "svm_linear = {'C': [0.1, 1, 10, 100, 1000],\n",
    "              'kernel': ['linear']}\n",
    "\n",
    "#Se establecen los hiperparámetros para el Kernel polinomico\n",
    "svm_poly = {'C': [0.1, 1, 10, 100, 1000],\n",
    "              'gamma': [1, 0.1, 0.01, 0.001, 'auto', 'scale'],\n",
    "              'degree': [2, 3],\n",
    "              'kernel': ['poly']}\n",
    "\n",
    "#Se establecen los hiperparámetros para los kernels rbf y sigmoid\n",
    "svm_others = {'C': [0.1, 1, 10, 100, 1000],\n",
    "              'gamma': [1, 0.1, 0.01, 0.001,'auto', 'scale'],\n",
    "              'kernel': [ 'rbf', 'sigmoid']}\n",
    "\n",
    "#Se unen todos los hiperparametros en una lista de diccionarios\n",
    "parameters = [svm_linear, svm_poly, svm_others]\n",
    "\n",
    "\n",
    "# Se define un GridSearchCV con una validacion cruzada de 10 pliegues y con todos los\n",
    "#hierparametros establecidos anteriormente\n",
    "grid_svr = GridSearchCV(modelsvr,\n",
    "                        param_grid=parameters,\n",
    "                        cv=CV,\n",
    "                        verbose=3)\n",
    "\n",
    "#Se entrena el GridSearchCV anterior (2 min. aprox.) con los datos completos\n",
    "grid_svr.fit(X_Completo,y_Completo)"
   ]
  },
  {
   "cell_type": "code",
   "execution_count": null,
   "id": "579b92f2",
   "metadata": {},
   "outputs": [],
   "source": [
    "# Obtener los resultados del grid search\n",
    "results_grid_svr = pd.DataFrame(grid_svr.cv_results_)\n",
    "\n",
    "\n",
    "# Seleccionar las columnas deseadas\n",
    "columns_grid_svr = ['param_C']  + \\\n",
    "                    ['param_degree']  + \\\n",
    "                    ['param_kernel']  + \\\n",
    "                    ['param_gamma']   + \\\n",
    "                    ['mean_test_score', 'std_test_score']  + \\\n",
    "                    [f'split{i}_test_score' for i in range(CV)]\n",
    "\n",
    "# Filtrar y mostrar los resultados\n",
    "results_grid_svr_filtered = results_grid_svr[columns_grid_svr]\n",
    "\n",
    "# Crear la columna scoreWithStd: R2 / std\n",
    "results_grid_svr_filtered['scoreWithStd'] = results_grid_svr_filtered.apply(\n",
    "    lambda row: row['mean_test_score'] / row['std_test_score'] if row['std_test_score'] != 0 else 0,\n",
    "    axis=1\n",
    ")\n",
    "\n",
    "# Encuentra el índice del máximo valor en la columna scoreWithStd\n",
    "indice_max_scoreWithStd = results_grid_svr_filtered['scoreWithStd'].idxmax()\n",
    "\n",
    "# Mostrar los scores promedios por cada parámetro\n",
    "print(results_grid_svr_filtered[['param_C', 'param_degree', 'mean_test_score', 'std_test_score', 'scoreWithStd']])\n"
   ]
  },
  {
   "cell_type": "code",
   "execution_count": null,
   "id": "a71b197a",
   "metadata": {},
   "outputs": [],
   "source": [
    "# Se identifican los mejores hiperparámetros\n",
    "best_params = grid_svr.best_params_\n",
    "print('Best Parameters : ',best_params)"
   ]
  },
  {
   "cell_type": "code",
   "execution_count": null,
   "id": "549eda44",
   "metadata": {},
   "outputs": [],
   "source": [
    "registro_max_scoreWithStd = results_grid_svr_filtered.loc[indice_max_scoreWithStd]\n"
   ]
  },
  {
   "cell_type": "code",
   "execution_count": null,
   "id": "7a3d7883",
   "metadata": {},
   "outputs": [],
   "source": [
    "# Usar los mejores parámetros para crear el modelo\n",
    "modelsvr.set_params(kernel=results_grid_svr_filtered.loc[indice_max_scoreWithStd]['param_kernel']\n",
    "                     , C = results_grid_svr_filtered.loc[indice_max_scoreWithStd]['param_C']\n",
    "                     , gamma = results_grid_svr_filtered.loc[indice_max_scoreWithStd]['param_gamma']\n",
    "                     , degree =  int(results_grid_svr_filtered.loc[indice_max_scoreWithStd]['param_degree'])\n",
    "                    )\n",
    "\n",
    "modelsvr.fit(X_Completo, y_Completo)"
   ]
  },
  {
   "cell_type": "code",
   "execution_count": null,
   "id": "f837fe54",
   "metadata": {},
   "outputs": [],
   "source": [
    "#Se guardan los modelos de SVC\n",
    "\n",
    "joblib.dump(modelsvr, 'modelos/SVRModel.pkl')"
   ]
  }
 ],
 "metadata": {
  "kernelspec": {
   "display_name": "venv",
   "language": "python",
   "name": "python3"
  },
  "language_info": {
   "codemirror_mode": {
    "name": "ipython",
    "version": 3
   },
   "file_extension": ".py",
   "mimetype": "text/x-python",
   "name": "python",
   "nbconvert_exporter": "python",
   "pygments_lexer": "ipython3",
   "version": "3.13.5"
  }
 },
 "nbformat": 4,
 "nbformat_minor": 5
}
